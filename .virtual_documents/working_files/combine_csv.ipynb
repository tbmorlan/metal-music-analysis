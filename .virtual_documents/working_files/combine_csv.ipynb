import pandas as pd
from pandasql import sqldf
import glob
import os



